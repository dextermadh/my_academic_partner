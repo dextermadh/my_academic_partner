{
 "cells": [
  {
   "cell_type": "code",
   "execution_count": 8,
   "id": "251b8311",
   "metadata": {},
   "outputs": [
    {
     "data": {
      "text/plain": [
       "True"
      ]
     },
     "execution_count": 8,
     "metadata": {},
     "output_type": "execute_result"
    }
   ],
   "source": [
    "import os\n",
    "import chromadb\n",
    "from langchain_chroma import Chroma\n",
    "from langchain_core.vectorstores import VectorStoreRetriever\n",
    "from langchain_community.embeddings import SentenceTransformerEmbeddings\n",
    "from langchain_groq import ChatGroq \n",
    "from langchain.prompts import ChatPromptTemplate \n",
    "from langchain.chains import RetrievalQA \n",
    "from dotenv import load_dotenv\n",
    "\n",
    "load_dotenv() "
   ]
  },
  {
   "cell_type": "code",
   "execution_count": 9,
   "id": "fac9704c",
   "metadata": {},
   "outputs": [],
   "source": [
    "client = chromadb.PersistentClient(path='../vectorstore')\n",
    "collection = client.get_collection('academic_papers') "
   ]
  },
  {
   "cell_type": "code",
   "execution_count": 10,
   "id": "cb89274b",
   "metadata": {},
   "outputs": [
    {
     "name": "stderr",
     "output_type": "stream",
     "text": [
      "C:\\Users\\madhu\\AppData\\Local\\Temp\\ipykernel_4032\\24310376.py:2: LangChainDeprecationWarning: The class `HuggingFaceEmbeddings` was deprecated in LangChain 0.2.2 and will be removed in 1.0. An updated version of the class exists in the :class:`~langchain-huggingface package and should be used instead. To use it run `pip install -U :class:`~langchain-huggingface` and import as `from :class:`~langchain_huggingface import HuggingFaceEmbeddings``.\n",
      "  embedding_fn = SentenceTransformerEmbeddings(\n"
     ]
    }
   ],
   "source": [
    "# initialize embeddings function for chromadb\n",
    "embedding_fn = SentenceTransformerEmbeddings(\n",
    "    model_name='all-MiniLM-L6-v2',\n",
    ")\n",
    "\n",
    "# load chromadb client and collection\n",
    "vectorstore = Chroma(\n",
    "    client=client,\n",
    "    collection_name='academic_papers',\n",
    "    embedding_function=embedding_fn\n",
    ")\n",
    "\n",
    "retriever = vectorstore.as_retriever(search_kwargs={'k': 5}) "
   ]
  },
  {
   "cell_type": "code",
   "execution_count": 11,
   "id": "82866b01",
   "metadata": {},
   "outputs": [],
   "source": [
    "# llm\n",
    "llm = ChatGroq(\n",
    "    model='qwen/qwen3-32b',\n",
    "    temperature=0.2\n",
    ")\n",
    "\n",
    "# prompt template\n",
    "prompt_template = ChatPromptTemplate.from_messages([\n",
    "    ('system', 'You are an academic assistant. Always answer in the user\\'s writing style, tone, and structure.'),\n",
    "    (\"human\", \"Question: {question}\\n\\nContext: {context}\\n\\nAnswer in the user's academic style:\")\n",
    "])\n",
    "\n"
   ]
  },
  {
   "cell_type": "code",
   "execution_count": 12,
   "id": "0f8081f2",
   "metadata": {},
   "outputs": [],
   "source": [
    "# rag chain setup \n",
    "rqa = RetrievalQA.from_chain_type(\n",
    "    llm=llm,\n",
    "    retriever=retriever,\n",
    "    chain_type='stuff',\n",
    "    chain_type_kwargs={'prompt': prompt_template}\n",
    ")"
   ]
  },
  {
   "cell_type": "code",
   "execution_count": 13,
   "id": "f6638730",
   "metadata": {},
   "outputs": [
    {
     "name": "stderr",
     "output_type": "stream",
     "text": [
      "C:\\Users\\madhu\\AppData\\Local\\Temp\\ipykernel_4032\\402968631.py:2: LangChainDeprecationWarning: The method `Chain.run` was deprecated in langchain 0.1.0 and will be removed in 1.0. Use :meth:`~invoke` instead.\n",
      "  result = rqa.run(query)\n"
     ]
    },
    {
     "name": "stdout",
     "output_type": "stream",
     "text": [
      "=== Academic Answer (User Style) ===\n",
      "<think>\n",
      "Okay, let's tackle this query. The user wants an explanation of entropy's role in ecosystems, specifically in the context of the course \"Technology, Society, and Environment\" from the Open University of Sri Lanka. \n",
      "\n",
      "First, I need to recall what entropy means in thermodynamics. Entropy is a measure of disorder or randomness in a system. In ecosystems, it's about how energy is transformed and how systems maintain order. But how does that tie into the course's focus on technology, society, and environment?\n",
      "\n",
      "The course emphasizes sustainability and ethical considerations. So, entropy here might relate to how ecosystems manage energy flows and maintain balance, which is crucial for sustainable engineering practices. Maybe the user is looking for a connection between entropy and environmental stewardship, like how ecosystems process energy and how human interventions (technology) can disrupt or support these processes.\n",
      "\n",
      "I should also consider the interdisciplinary approach of the course. The user mentioned units like \"Engineer and Society\" and \"Engineer and Environment,\" which integrate social, ethical, and environmental aspects. Entropy in ecosystems could be a metaphor for disorder or degradation, and understanding it helps in designing sustainable tech solutions. For example, high entropy might indicate ecosystem degradation, so engineers need to minimize entropy production through sustainable practices.\n",
      "\n",
      "Wait, the user provided a conclusion about algorithms and a tech company. Maybe they want the answer to connect entropy's role in ecosystems to technological systems, like how efficient algorithms reduce entropy in data processing, similar to how ecosystems manage energy. But the main focus is on the environmental side.\n",
      "\n",
      "Also, the course discusses legal frameworks like EIA (Environmental Impact Assessments). Entropy could be part of assessing how technological projects affect ecosystem stability. High entropy might mean a project is causing too much disorder, so mitigation strategies are needed.\n",
      "\n",
      "I need to structure the answer to first define entropy in the context of ecosystems, then link it to the course's themes of sustainability, environmental stewardship, and ethical engineering. Use examples like energy flow in ecosystems, entropy production in human activities, and how sustainable practices can reduce negative impacts. Emphasize the interdisciplinary approach of the course, showing how understanding entropy helps engineers design solutions that align with ecological principles.\n",
      "\n",
      "Make sure to mention how the course prepares students to consider entropy in their projects, ensuring they follow regulations and contribute to sustainability. Maybe touch on how entropy relates to climate change mitigation and ecosystem degradation, which are part of the course's study areas.\n",
      "\n",
      "Avoid technical jargon but maintain an academic tone. Ensure the answer reflects the course's unique integration of social, ethical, and environmental aspects with technology. Conclude by tying entropy's role back to the broader goals of the course in fostering responsible technological development.\n",
      "</think>\n",
      "\n",
      "Entropy, a thermodynamic concept central to understanding energy dispersal and disorder, plays a critical role in ecosystems as a framework for analyzing energy flow, resource allocation, and systemic sustainability. In the context of the Open University of Sri Lanka’s interdisciplinary course *Technology, Society, and Environment*, entropy serves as a lens to examine how ecosystems maintain balance, how human interventions disrupt these systems, and how sustainable engineering practices can mitigate such disruptions. This analysis aligns with the course’s emphasis on environmental stewardship, ethical responsibility, and the interconnectedness of technology with ecological and societal systems.  \n",
      "\n",
      "### Entropy in Ecosystems: A Thermodynamic Perspective  \n",
      "Entropy quantifies the degree of energy dispersal or \"disorder\" in a system. In ecosystems, energy flows through trophic levels (producers, consumers, decomposers), with each transfer accompanied by energy loss as heat, increasing entropy. This process adheres to the **Second Law of Thermodynamics**, which states that entropy in an isolated system tends to increase over time. Ecosystems, however, are open systems that exchange energy and matter with their surroundings, allowing them to maintain low internal entropy (order) by exporting entropy to the environment. For example, photosynthesis captures solar energy, reducing local entropy while increasing global entropy through heat dissipation.  \n",
      "\n",
      "### Entropy and Ecosystem Degradation  \n",
      "Human activities, such as deforestation, pollution, and overexploitation of resources, accelerate entropy production in ecosystems. These interventions disrupt natural energy flows, leading to biodiversity loss, soil degradation, and climate change. The course’s focus on **climate change mitigation** and **ecosystem degradation** underscores the need to understand entropy as a metric for assessing ecological health. For instance, deforestation increases entropy by fragmenting habitats and reducing the system’s capacity to recycle energy efficiently.  \n",
      "\n",
      "### Sustainable Engineering and Entropy Management  \n",
      "The unit *Engineer and Environment* emphasizes **sustainable engineering practices** that minimize entropy generation. By designing systems that mimic natural processes (e.g., circular economy models), engineers can reduce waste and energy loss. For example, renewable energy technologies (solar, wind) align with ecological principles by harnessing energy flows that ecosystems have optimized over millennia. Conversely, fossil fuel combustion increases entropy by releasing concentrated energy as dispersed heat, exacerbating climate entropy.  \n",
      "\n",
      "### Legal and Ethical Frameworks  \n",
      "The course’s integration of **Environmental Impact Assessments (EIAs)** and regulatory frameworks reflects a commitment to managing entropy ethically. EIAs evaluate how projects alter energy flows and entropy levels in ecosystems, ensuring compliance with sustainability goals. This aligns with the course’s broader mission to train engineers who prioritize ecological balance alongside technological innovation.  \n",
      "\n",
      "### Interdisciplinary Implications  \n",
      "Entropy’s role in ecosystems also intersects with the course’s exploration of **gender and technology**, **systemic thinking**, and **policy integration**. For instance, gender-sensitive design principles can reduce entropy by addressing social inequities that marginalize communities from participating in environmental stewardship. Similarly, systemic thinking—rooted in understanding entropy as a dynamic process—enables engineers to design solutions that harmonize with ecological and societal constraints.  \n",
      "\n",
      "### Conclusion  \n",
      "Entropy is not merely a thermodynamic concept but a metaphor for disorder and degradation in ecosystems. By studying entropy through the interdisciplinary lens of *Technology, Society, and Environment*, students at the Open University of Sri Lanka gain tools to design technologies that minimize ecological entropy, uphold ethical standards, and foster resilience. This approach ensures that engineering interventions align with the natural world’s capacity to sustain life, reflecting the course’s unique commitment to holistic, socially responsible innovation.  \n",
      "\n",
      "---  \n",
      "This explanation integrates thermodynamic principles with the course’s themes, emphasizing the interplay between entropy, sustainability, and ethical engineering—a hallmark of the Open University of Sri Lanka’s pedagogical philosophy.\n"
     ]
    }
   ],
   "source": [
    "query = \"Explain the role of entropy in ecosystems.\"\n",
    "result = rqa.run(query)\n",
    "\n",
    "\n",
    "print(\"=== Academic Answer (User Style) ===\")\n",
    "print(result)"
   ]
  },
  {
   "cell_type": "code",
   "execution_count": null,
   "id": "f8a169cb",
   "metadata": {},
   "outputs": [],
   "source": []
  }
 ],
 "metadata": {
  "kernelspec": {
   "display_name": "tf",
   "language": "python",
   "name": "python3"
  },
  "language_info": {
   "codemirror_mode": {
    "name": "ipython",
    "version": 3
   },
   "file_extension": ".py",
   "mimetype": "text/x-python",
   "name": "python",
   "nbconvert_exporter": "python",
   "pygments_lexer": "ipython3",
   "version": "3.13.5"
  }
 },
 "nbformat": 4,
 "nbformat_minor": 5
}
