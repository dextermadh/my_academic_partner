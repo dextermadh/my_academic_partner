{
 "cells": [
  {
   "cell_type": "code",
   "execution_count": 10,
   "id": "4482beee",
   "metadata": {},
   "outputs": [],
   "source": [
    "import os \n",
    "import json \n",
    "from tqdm import tqdm\n",
    "from sentence_transformers import SentenceTransformer\n",
    "import chromadb \n",
    "from chromadb.utils import embedding_functions \n",
    "from pathlib import Path"
   ]
  },
  {
   "cell_type": "code",
   "execution_count": 11,
   "id": "5dbf0743",
   "metadata": {},
   "outputs": [],
   "source": [
    "# paths \n",
    "PROCESSED_DIR = Path('data/processed')\n",
    "VECTORSTORE_DIR = Path('vectorstore')\n",
    "VECTORSTORE_DIR.mkdir(parents=True, exist_ok=True) \n",
    "CLEANED_SECTIONS_JSON = Path('data/processed/cleaned_sections.json')"
   ]
  },
  {
   "cell_type": "code",
   "execution_count": 12,
   "id": "c4608dc2",
   "metadata": {},
   "outputs": [],
   "source": [
    "# load cleaned sectioned text \n",
    "with open(CLEANED_SECTIONS_JSON, 'r', encoding='utf-8') as f: \n",
    "    cleaned_sections = json.load(f) "
   ]
  },
  {
   "cell_type": "code",
   "execution_count": 13,
   "id": "26472f3b",
   "metadata": {},
   "outputs": [],
   "source": [
    "# initialize embeddings function for chromadb\n",
    "embedding_fn = embedding_functions.SentenceTransformerEmbeddingFunction(\n",
    "    model_name='all-MiniLM-L6-v2',\n",
    ")\n",
    "\n",
    "# initialize chromadb \n",
    "chroma_client = chromadb.PersistentClient(path=VECTORSTORE_DIR)\n",
    "collection = chroma_client.get_or_create_collection(\n",
    "    name='academic_papers', \n",
    "    embedding_function=embedding_fn \n",
    ")"
   ]
  },
  {
   "cell_type": "code",
   "execution_count": 14,
   "id": "3118d8d8",
   "metadata": {},
   "outputs": [],
   "source": [
    "# create chunk function\n",
    "def chunk_text(text, chunk_size=200, overlap=50): \n",
    "    '''\n",
    "    split text into overlapiing chunks \n",
    "    '''\n",
    "    words = text.split()\n",
    "    chunks = [] \n",
    "    start = 0\n",
    "    \n",
    "    while start < len(words): \n",
    "        end = min(start + chunk_size, len(words))\n",
    "        chunk = ' '.join(words[start:end])\n",
    "        chunks.append(chunk) \n",
    "        start += chunk_size - overlap\n",
    "    return chunks "
   ]
  },
  {
   "cell_type": "code",
   "execution_count": 15,
   "id": "5b32afee",
   "metadata": {},
   "outputs": [
    {
     "name": "stderr",
     "output_type": "stream",
     "text": [
      "  0%|          | 0/31 [00:00<?, ?it/s]"
     ]
    },
    {
     "name": "stderr",
     "output_type": "stream",
     "text": [
      "100%|██████████| 31/31 [00:02<00:00, 10.36it/s]\n"
     ]
    }
   ],
   "source": [
    "# generate embeddings and populate chroma \n",
    "for fname, sections in tqdm(cleaned_sections.items()): \n",
    "    for section_name, text in sections.items(): \n",
    "        chunks = chunk_text(text)\n",
    "        ids = [f'{fname}_{section_name}_{i}' for i in range(len(chunks))]\n",
    "        collection.add(\n",
    "            documents=chunks, \n",
    "            metadatas=[{'source': fname, 'section': section_name} for _ in chunks], \n",
    "            ids=ids\n",
    "        )"
   ]
  }
 ],
 "metadata": {
  "kernelspec": {
   "display_name": "tf",
   "language": "python",
   "name": "python3"
  },
  "language_info": {
   "codemirror_mode": {
    "name": "ipython",
    "version": 3
   },
   "file_extension": ".py",
   "mimetype": "text/x-python",
   "name": "python",
   "nbconvert_exporter": "python",
   "pygments_lexer": "ipython3",
   "version": "3.13.5"
  }
 },
 "nbformat": 4,
 "nbformat_minor": 5
}
