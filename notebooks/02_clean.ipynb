{
 "cells": [
  {
   "cell_type": "code",
   "execution_count": 36,
   "id": "437dbe4b",
   "metadata": {},
   "outputs": [],
   "source": [
    "import re\n",
    "import os\n",
    "import pandas as pd\n",
    "import json \n",
    "from pathlib import Path\n",
    "import string"
   ]
  },
  {
   "cell_type": "code",
   "execution_count": 37,
   "id": "a123472f",
   "metadata": {},
   "outputs": [],
   "source": [
    "RAW_EXTRACTED_CSV = Path('../data/extracted/papers_extracted.csv')\n",
    "RAW_RAW_CSV = Path('../data/extracted/papers_raw.csv')\n",
    "PROCESSED_DIR = Path('../data/processed')\n",
    "PROCESSED_DIR.mkdir(parents=True, exist_ok=True) "
   ]
  },
  {
   "cell_type": "code",
   "execution_count": 38,
   "id": "e2328863",
   "metadata": {},
   "outputs": [
    {
     "name": "stdout",
     "output_type": "stream",
     "text": [
      "loaded 31 raw documents\n",
      "loaded 73 sectioned rows\n"
     ]
    }
   ],
   "source": [
    "# load the csvs \n",
    "df_raw = pd.read_csv(RAW_RAW_CSV)\n",
    "df_sections = pd.read_csv(RAW_EXTRACTED_CSV) \n",
    "\n",
    "print(f'loaded {len(df_raw)} raw documents')\n",
    "print(f'loaded {len(df_sections)} sectioned rows') "
   ]
  },
  {
   "cell_type": "code",
   "execution_count": 39,
   "id": "5c9592bc",
   "metadata": {},
   "outputs": [],
   "source": [
    "# clean text function\n",
    "def clean_text(text: str) -> str: \n",
    "    '''\n",
    "    cleans extracted academic answers.\n",
    "    adjust rules based on your dataset\n",
    "    '''\n",
    "    # lowercase\n",
    "    text = text.lower() \n",
    "    \n",
    "    # remove extra whitespaces\n",
    "    text = re.sub(r'\\s+', '', text).strip()\n",
    "    \n",
    "    # remove numbers and punctuation\n",
    "    text = re.sub(r'\\d+', '', text)\n",
    "    text = text.translate(str.maketrans('', '', string.punctuation))\n",
    "    \n",
    "    # remove multiple new lines -> single new line\n",
    "    text = re.sub(r'\\n\\s*\\n+', '\\n\\n', text)\n",
    "    \n",
    "    # remove extract spaces\n",
    "    text = re.sub(r'[ \\t]+', ' ', text)\n",
    "    \n",
    "    # remove page numbers \n",
    "    text = re.sub(r'Page\\s*\\d+', '', text, flags=re.IGNORECASE) \n",
    "    text = re.sub(r\"^\\s*\\d+\\s*$\", \"\", text, flags=re.MULTILINE)\n",
    "    text = re.sub(r\"–\\s*\\d+\\s*–\", \"\", text)    \n",
    "    text = re.sub(r\"P a g e \\W \\d+\", \"\", text)\n",
    "    \n",
    "    text = re.sub(r\"\\d\\) .*\", \"\", text)\n",
    "    text = re.sub(r\"(\\d\\)|(\\d.|(\\d.\\d)|(\\d.\\d.\\d|\\d))) .*\", \"\", text)\n",
    "    \n",
    "    # remove dates\n",
    "    text = re.sub(r\"\\d{2}\\/\\d{2}\\/\\d{4}\", \"\", text)\n",
    "    text = re.sub(r'\\d{4}\\/\\d{2}\\/', \"\", text)\n",
    "    text = re.sub(r'\\d{2}\\/\\d{2}\\/\\d+', \"\", text)\n",
    "    \n",
    "    # Remove references section if present\n",
    "    text = re.sub(r\"(References|BIBLIOGRAPHY).*\", \"\", text, flags=re.IGNORECASE | re.DOTALL)\n",
    "    \n",
    "    # remove web links\n",
    "    text = re.sub(r'https:\\/\\/.*', \"\",text)\n",
    "    \n",
    "    text = re.sub(r'(Name:|(S|s) number:|Registration Number:) (L.B.D.M.A. Wijesundara|(S|s)\\d+|\\d+)', \"\", text)\n",
    "    text = re.sub(r'(\\S+|\\S+ \\S+) - s\\d+', '', text)\n",
    "    \n",
    "    # remove table of contents\n",
    "    text = re.sub(r'\\w+\\.{5,}\\d+', \"\", text)\n",
    "    text = re.sub(r'(\\w+) \\.{5,}', '', text)\n",
    "    text = re.sub(r'\\w+\\.{10,} \\d', '', text)\n",
    "    \n",
    "    # other things to remove\n",
    "    text = re.sub(r'Student \\d\\(\\w+ \\w+\\) .{10,}', '', text)\n",
    "    \n",
    "    \n",
    "    # normalize the quotes and dashes \n",
    "    text = text.replace(\"“\", '\"').replace(\"”\", '\"')\n",
    "    text = text.replace(\"’\", \"'\").replace(\"–\", \"-\")\n",
    "    \n",
    "    \n",
    "    \n",
    "    # remove non-ASCII junk (optional)\n",
    "    text = re.sub(r\"[^\\x00-\\x7F]+\", \" \", text)\n",
    "\n",
    "    text = text.strip()\n",
    "    return text "
   ]
  },
  {
   "cell_type": "code",
   "execution_count": 40,
   "id": "10aa1ca6",
   "metadata": {},
   "outputs": [],
   "source": [
    "# apply cleaning to raw documents\n",
    "# Apply cleaning to raw documents\n",
    "df_raw['cleaned_text'] = df_raw['raw_text'].apply(clean_text)\n",
    "df_raw = df_raw.dropna()  # Remove NaN/None values\n",
    "\n",
    "# Filter out empty or whitespace-only strings\n",
    "df_raw = df_raw[df_raw['cleaned_text'].str.strip() != '']\n",
    "df_raw.to_csv(os.path.join(PROCESSED_DIR, 'cleaned_raw.csv'), index=False)\n",
    "\n"
   ]
  },
  {
   "cell_type": "code",
   "execution_count": 41,
   "id": "1bd031d3",
   "metadata": {},
   "outputs": [],
   "source": [
    "# apply cleaning to sectioned documents \n",
    "df_sections['cleaned_content'] = df_sections['content'].apply(clean_text)\n",
    "df_sections = df_sections.dropna()\n",
    "\n",
    "df_sections = df_sections[df_sections['cleaned_content'].str.strip() != '']\n",
    "df_sections.to_csv(os.path.join(PROCESSED_DIR, 'cleaned_sections.csv'), index=False) \n"
   ]
  },
  {
   "cell_type": "code",
   "execution_count": 42,
   "id": "49d6d5a2",
   "metadata": {},
   "outputs": [],
   "source": [
    "# save jsons for embeddings pipeline \n",
    "# raw texts json \n",
    "raw_dict = {row['filename']: row['cleaned_text'] for _, row in df_raw.iterrows()} \n",
    "\n",
    "with open(os.path.join(PROCESSED_DIR, 'cleaned_raw.json'), 'w', encoding='utf-8') as f:\n",
    "    json.dump(raw_dict,f,ensure_ascii=False, indent=2) \n",
    "\n",
    "# sectioned texts json \n",
    "section_dict = {}\n",
    "for _, row in df_sections.iterrows(): \n",
    "    fname = row['filename']\n",
    "    section_dict.setdefault(fname, {})\n",
    "    section_dict[fname][row['section']] = row['cleaned_content']\n",
    "\n",
    "with open(os.path.join(PROCESSED_DIR, 'cleaned_sections.json'), 'w', encoding='utf-8') as f: \n",
    "    json.dump(section_dict, f, ensure_ascii=False, indent=2) "
   ]
  },
  {
   "cell_type": "code",
   "execution_count": null,
   "id": "308f750a",
   "metadata": {},
   "outputs": [],
   "source": []
  }
 ],
 "metadata": {
  "kernelspec": {
   "display_name": "tf",
   "language": "python",
   "name": "python3"
  },
  "language_info": {
   "codemirror_mode": {
    "name": "ipython",
    "version": 3
   },
   "file_extension": ".py",
   "mimetype": "text/x-python",
   "name": "python",
   "nbconvert_exporter": "python",
   "pygments_lexer": "ipython3",
   "version": "3.13.5"
  }
 },
 "nbformat": 4,
 "nbformat_minor": 5
}
