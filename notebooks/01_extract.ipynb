{
 "cells": [
  {
   "cell_type": "code",
   "execution_count": 3,
   "id": "47986fc6",
   "metadata": {},
   "outputs": [],
   "source": [
    "import fitz\n",
    "import docx\n",
    "import os \n",
    "import pandas as pd\n",
    "from tqdm import tqdm \n",
    "from pathlib import Path"
   ]
  },
  {
   "cell_type": "code",
   "execution_count": 4,
   "id": "fb6ae2ad",
   "metadata": {},
   "outputs": [],
   "source": [
    "# paths \n",
    "RAW_DIR = Path('../data/raw')\n",
    "OUTPUT_DIR = Path('../data/extracted')\n",
    "OUTPUT_DIR.mkdir(parents=True, exist_ok=True) "
   ]
  },
  {
   "cell_type": "code",
   "execution_count": 5,
   "id": "c255b6ac",
   "metadata": {},
   "outputs": [],
   "source": [
    "# function to extract texts from pdf \n",
    "def extract_text_from_pdf(file_path): \n",
    "    doc = fitz.open(file_path) \n",
    "    text_pages = []\n",
    "    \n",
    "    for page_num in range(len(doc)): \n",
    "        text = doc[page_num].get_text('text')\n",
    "        text_pages.append(text)\n",
    "    return '\\n'.join(text_pages) \n",
    "\n",
    "# function to extract texts from word files \n",
    "def extract_from_docx(file_path): \n",
    "    doc = docx.Document(file_path) \n",
    "    return '\\n'.join([para.text for para in doc.paragraphs if para.text.strip()]) "
   ]
  },
  {
   "cell_type": "code",
   "execution_count": null,
   "id": "1cc675b6",
   "metadata": {},
   "outputs": [],
   "source": [
    "# sample section headers for splitting\n",
    "SECTION_HEADERS = [\n",
    "    \"abstract\", \"introduction\", \"related work\", \"methodology\",\n",
    "    \"methods\", \"experiments\", \"results\", \"discussion\",\n",
    "    \"conclusion\", \"references\", \"acknowledgements\"\n",
    "]\n",
    "\n",
    "# split into section function\n",
    "def split_into_section(text): \n",
    "    sections = {} \n",
    "    current_section = 'unknown'\n",
    "    buffer = [] \n",
    "    \n",
    "    for line in text.split('\\n'): \n",
    "        clean_line = line.strip().lower() \n",
    "        if any(clean_line.startswith(h) for h in SECTION_HEADERS): \n",
    "            if buffer: \n",
    "                sections[current_section] = '\\n'.join(buffer).strip() \n",
    "                buffer = []\n",
    "            current_section = clean_line\n",
    "        buffer.append(line)\n",
    "    \n",
    "    if buffer: \n",
    "        sections[current_section] = '\\n'.join(buffer).strip() \n",
    "    \n",
    "    return sections     \n",
    "        "
   ]
  },
  {
   "cell_type": "code",
   "execution_count": 8,
   "id": "68cf2d21",
   "metadata": {},
   "outputs": [
    {
     "name": "stderr",
     "output_type": "stream",
     "text": [
      "  0%|          | 0/31 [00:00<?, ?it/s]"
     ]
    },
    {
     "name": "stderr",
     "output_type": "stream",
     "text": [
      "100%|██████████| 31/31 [00:02<00:00, 10.67it/s]\n"
     ]
    }
   ],
   "source": [
    "# process all the files \n",
    "section_records = []\n",
    "raw_records = [] \n",
    "\n",
    "for file in tqdm(os.listdir(RAW_DIR)): \n",
    "    if not (file.endswith('.pdf') or file.endswith('.docx')):\n",
    "        continue\n",
    "    \n",
    "    file_path = os.path.join(RAW_DIR, file) \n",
    "    \n",
    "    # extract text depending on type \n",
    "    if file.endswith('.pdf'): \n",
    "        raw_text = extract_text_from_pdf(file_path)\n",
    "    elif file.endswith('.docx'): \n",
    "        raw_text = extract_from_docx(file_path)\n",
    "    \n",
    "    # save raw version\n",
    "    raw_records.append({\n",
    "        'filename': file, \n",
    "        'raw_text': raw_text\n",
    "    })\n",
    "    \n",
    "    # save section split version \n",
    "    sections = split_into_section(raw_text)\n",
    "    for section, content in sections.items(): \n",
    "        section_records.append({\n",
    "            'filename': file,\n",
    "            'section': section, \n",
    "            'content': content\n",
    "        })\n",
    "\n"
   ]
  },
  {
   "cell_type": "code",
   "execution_count": 9,
   "id": "dc2546e9",
   "metadata": {},
   "outputs": [],
   "source": [
    "df_sections = pd.DataFrame(section_records) \n",
    "df_raw = pd.DataFrame(raw_records) \n",
    "\n",
    "df_sections.to_csv(os.path.join(OUTPUT_DIR, \"papers_extracted.csv\"), index=False)\n",
    "df_raw.to_csv(os.path.join(OUTPUT_DIR, \"papers_raw.csv\"), index=False)"
   ]
  },
  {
   "cell_type": "code",
   "execution_count": null,
   "id": "9909dd54",
   "metadata": {},
   "outputs": [],
   "source": []
  }
 ],
 "metadata": {
  "kernelspec": {
   "display_name": "tf",
   "language": "python",
   "name": "python3"
  },
  "language_info": {
   "codemirror_mode": {
    "name": "ipython",
    "version": 3
   },
   "file_extension": ".py",
   "mimetype": "text/x-python",
   "name": "python",
   "nbconvert_exporter": "python",
   "pygments_lexer": "ipython3",
   "version": "3.13.5"
  }
 },
 "nbformat": 4,
 "nbformat_minor": 5
}
